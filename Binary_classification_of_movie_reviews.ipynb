{
  "nbformat": 4,
  "nbformat_minor": 0,
  "metadata": {
    "colab": {
      "name": "Binary classification of movie reviews",
      "provenance": [],
      "collapsed_sections": [],
      "authorship_tag": "ABX9TyPdgjF5OwCL+VR2V4RKMOBQ",
      "include_colab_link": true
    },
    "kernelspec": {
      "name": "python3",
      "display_name": "Python 3"
    }
  },
  "cells": [
    {
      "cell_type": "markdown",
      "metadata": {
        "id": "view-in-github",
        "colab_type": "text"
      },
      "source": [
        "<a href=\"https://colab.research.google.com/github/m-poppins/practice/blob/master/Binary_classification_of_movie_reviews.ipynb\" target=\"_parent\"><img src=\"https://colab.research.google.com/assets/colab-badge.svg\" alt=\"Open In Colab\"/></a>"
      ]
    },
    {
      "cell_type": "markdown",
      "metadata": {
        "id": "u1u-ZzSmYbey",
        "colab_type": "text"
      },
      "source": [
        "# Классификация отзывов к фильмам"
      ]
    },
    {
      "cell_type": "code",
      "metadata": {
        "id": "lI4ZZxqgpy49",
        "colab_type": "code",
        "colab": {}
      },
      "source": [
        "import tensorflow as tf\n",
        "import pandas as pd\n",
        "import matplotlib.pyplot as plt\n",
        "import numpy as np\n",
        "from tensorflow import keras\n",
        "\n",
        "%matplotlib inline"
      ],
      "execution_count": null,
      "outputs": []
    },
    {
      "cell_type": "markdown",
      "metadata": {
        "id": "Uwxj1sA8qNBb",
        "colab_type": "text"
      },
      "source": [
        "## Подготовка данных"
      ]
    },
    {
      "cell_type": "markdown",
      "metadata": {
        "id": "8Imp6penqeFb",
        "colab_type": "text"
      },
      "source": [
        "Работа проведена на наборе данных IMDB - 50000 отзывов к фильмам в Internet Movie Database.  \n",
        "Набор состоит из 25000 обучающих и 25000 контрольных отзывов.  \n",
        "Датасет готов к использованию: отзывы преобазованы в последовательности целых чисел, каждое из которых определяет позицию слова в словаре."
      ]
    },
    {
      "cell_type": "code",
      "metadata": {
        "id": "Yz9CjnewrWc7",
        "colab_type": "code",
        "colab": {
          "base_uri": "https://localhost:8080/",
          "height": 67
        },
        "outputId": "78de05fd-daa9-4153-d572-44d6ff5b674f"
      },
      "source": [
        "from keras.datasets import imdb\n",
        "(X_train, y_train), (X_test, y_test) = imdb.load_data(num_words=10000) #Сохраняем в обучающих данных только 10 000 слов, наиболее часто встречающихся"
      ],
      "execution_count": null,
      "outputs": [
        {
          "output_type": "stream",
          "text": [
            "Using TensorFlow backend.\n"
          ],
          "name": "stderr"
        },
        {
          "output_type": "stream",
          "text": [
            "Downloading data from https://s3.amazonaws.com/text-datasets/imdb.npz\n",
            "17465344/17464789 [==============================] - 0s 0us/step\n"
          ],
          "name": "stdout"
        }
      ]
    },
    {
      "cell_type": "code",
      "metadata": {
        "id": "Q4JShzhTZCj5",
        "colab_type": "code",
        "colab": {}
      },
      "source": [
        "def vec_seq(sequences, dimension=10000):\n",
        "    res = np.zeros((len(sequences), dimension))\n",
        "    for i, s in enumerate(sequences):\n",
        "        res[i, s] = 1.\n",
        "    return res"
      ],
      "execution_count": null,
      "outputs": []
    },
    {
      "cell_type": "code",
      "metadata": {
        "id": "obi4SKMIs7-L",
        "colab_type": "code",
        "colab": {}
      },
      "source": [
        "X = vec_seq(X_train)\n",
        "X_test = vec_seq(X_test)\n",
        "\n",
        "y_test=np.asarray(y_test).astype('float32')\n",
        "y=np.asarray(y_train).astype('float32')"
      ],
      "execution_count": null,
      "outputs": []
    },
    {
      "cell_type": "markdown",
      "metadata": {
        "id": "6xO7EUkaxhEv",
        "colab_type": "text"
      },
      "source": [
        "## Конструируем сеть"
      ]
    },
    {
      "cell_type": "code",
      "metadata": {
        "id": "gx_ECOEG6p5-",
        "colab_type": "code",
        "colab": {}
      },
      "source": [
        "model = tf.keras.models.Sequential()\n",
        "model.add(tf.keras.layers.Dense(16, activation='relu', input_shape=(10000,)))\n",
        "model.add(tf.keras.layers.Dense(16, activation='relu'))\n",
        "model.add(tf.keras.layers.Dense(1, activation='sigmoid'))"
      ],
      "execution_count": null,
      "outputs": []
    },
    {
      "cell_type": "markdown",
      "metadata": {
        "id": "H93p_HinZTS7",
        "colab_type": "text"
      },
      "source": [
        "## Проверка решения"
      ]
    },
    {
      "cell_type": "code",
      "metadata": {
        "id": "O5Hwk_7L0Leq",
        "colab_type": "code",
        "colab": {}
      },
      "source": [
        "from sklearn.model_selection import train_test_split\n",
        "X_train, X_val, y_train, y_val = train_test_split(X, y, test_size=0.4) #выделили валидационную выборку"
      ],
      "execution_count": null,
      "outputs": []
    },
    {
      "cell_type": "code",
      "metadata": {
        "id": "ONHAPTw5zWF2",
        "colab_type": "code",
        "colab": {}
      },
      "source": [
        "model.compile(\n",
        "    loss='binary_crossentropy',\n",
        "    optimizer=tf.keras.optimizers.RMSprop(),\n",
        "    metrics=['acc']\n",
        ") "
      ],
      "execution_count": null,
      "outputs": []
    },
    {
      "cell_type": "code",
      "metadata": {
        "id": "58m4AXEL7YV4",
        "colab_type": "code",
        "colab": {
          "base_uri": "https://localhost:8080/",
          "height": 689
        },
        "outputId": "40104a38-1eca-4b84-8d84-cea06fab0de9"
      },
      "source": [
        "history=model.fit(X_train, y_train, epochs=20, validation_data=(X_val, y_val), batch_size=512)"
      ],
      "execution_count": null,
      "outputs": [
        {
          "output_type": "stream",
          "text": [
            "Epoch 1/20\n",
            "30/30 [==============================] - 1s 43ms/step - loss: 0.5450 - acc: 0.7991 - val_loss: 0.4248 - val_acc: 0.8657\n",
            "Epoch 2/20\n",
            "30/30 [==============================] - 1s 38ms/step - loss: 0.3420 - acc: 0.8976 - val_loss: 0.3280 - val_acc: 0.8822\n",
            "Epoch 3/20\n",
            "30/30 [==============================] - 1s 38ms/step - loss: 0.2466 - acc: 0.9239 - val_loss: 0.2921 - val_acc: 0.8854\n",
            "Epoch 4/20\n",
            "30/30 [==============================] - 1s 41ms/step - loss: 0.1916 - acc: 0.9407 - val_loss: 0.3079 - val_acc: 0.8759\n",
            "Epoch 5/20\n",
            "30/30 [==============================] - 1s 37ms/step - loss: 0.1549 - acc: 0.9523 - val_loss: 0.3151 - val_acc: 0.8764\n",
            "Epoch 6/20\n",
            "30/30 [==============================] - 1s 36ms/step - loss: 0.1288 - acc: 0.9618 - val_loss: 0.2949 - val_acc: 0.8830\n",
            "Epoch 7/20\n",
            "30/30 [==============================] - 1s 36ms/step - loss: 0.1091 - acc: 0.9677 - val_loss: 0.3072 - val_acc: 0.8813\n",
            "Epoch 8/20\n",
            "30/30 [==============================] - 1s 38ms/step - loss: 0.0899 - acc: 0.9734 - val_loss: 0.3293 - val_acc: 0.8765\n",
            "Epoch 9/20\n",
            "30/30 [==============================] - 1s 39ms/step - loss: 0.0770 - acc: 0.9787 - val_loss: 0.3552 - val_acc: 0.8748\n",
            "Epoch 10/20\n",
            "30/30 [==============================] - 1s 38ms/step - loss: 0.0630 - acc: 0.9835 - val_loss: 0.3686 - val_acc: 0.8755\n",
            "Epoch 11/20\n",
            "30/30 [==============================] - 1s 38ms/step - loss: 0.0519 - acc: 0.9880 - val_loss: 0.3988 - val_acc: 0.8742\n",
            "Epoch 12/20\n",
            "30/30 [==============================] - 1s 39ms/step - loss: 0.0436 - acc: 0.9900 - val_loss: 0.4256 - val_acc: 0.8710\n",
            "Epoch 13/20\n",
            "30/30 [==============================] - 1s 40ms/step - loss: 0.0358 - acc: 0.9920 - val_loss: 0.4523 - val_acc: 0.8704\n",
            "Epoch 14/20\n",
            "30/30 [==============================] - 1s 38ms/step - loss: 0.0269 - acc: 0.9955 - val_loss: 0.5387 - val_acc: 0.8602\n",
            "Epoch 15/20\n",
            "30/30 [==============================] - 1s 35ms/step - loss: 0.0234 - acc: 0.9963 - val_loss: 0.5417 - val_acc: 0.8652\n",
            "Epoch 16/20\n",
            "30/30 [==============================] - 1s 36ms/step - loss: 0.0177 - acc: 0.9973 - val_loss: 0.5607 - val_acc: 0.8665\n",
            "Epoch 17/20\n",
            "30/30 [==============================] - 1s 36ms/step - loss: 0.0156 - acc: 0.9975 - val_loss: 0.6010 - val_acc: 0.8654\n",
            "Epoch 18/20\n",
            "30/30 [==============================] - 1s 36ms/step - loss: 0.0098 - acc: 0.9987 - val_loss: 0.6412 - val_acc: 0.8649\n",
            "Epoch 19/20\n",
            "30/30 [==============================] - 1s 36ms/step - loss: 0.0086 - acc: 0.9989 - val_loss: 0.6686 - val_acc: 0.8623\n",
            "Epoch 20/20\n",
            "30/30 [==============================] - 1s 36ms/step - loss: 0.0053 - acc: 0.9996 - val_loss: 0.7027 - val_acc: 0.8626\n"
          ],
          "name": "stdout"
        }
      ]
    },
    {
      "cell_type": "code",
      "metadata": {
        "id": "DcaOBJKr-Pac",
        "colab_type": "code",
        "colab": {
          "base_uri": "https://localhost:8080/",
          "height": 295
        },
        "outputId": "acbeffa5-b5c4-4285-c9ea-d738d33704db"
      },
      "source": [
        "history_dict = history.history\n",
        "\n",
        "loss = history_dict['loss']\n",
        "val_loss = history_dict['val_loss']\n",
        "acc = history_dict['acc']\n",
        "val_acc = history_dict['val_acc']\n",
        "epochs = range(1, len(acc) + 1)\n",
        "\n",
        "plt.plot(epochs, loss, 'bo', label='Training loss')\n",
        "plt.plot(epochs, val_loss, 'b', label='Validation loss')\n",
        "plt.title('Training and validation loss')\n",
        "plt.xlabel('Epochs')\n",
        "plt.ylabel('Loss')\n",
        "plt.legend()\n",
        "\n",
        "plt.show()\n"
      ],
      "execution_count": null,
      "outputs": [
        {
          "output_type": "display_data",
          "data": {
            "image/png": "[encoded data removed]",
            "text/plain": [
              "<Figure size 432x288 with 1 Axes>"
            ]
          },
          "metadata": {
            "tags": [],
            "needs_background": "light"
          }
        }
      ]
    },
    {
      "cell_type": "code",
      "metadata": {
        "id": "q81sgv2v_Ojp",
        "colab_type": "code",
        "colab": {
          "base_uri": "https://localhost:8080/",
          "height": 295
        },
        "outputId": "1faa6bfe-cbb8-4b3c-9106-f9d32d92e7c2"
      },
      "source": [
        "plt.clf()\n",
        "plt.plot(epochs, acc, 'bo', label='Training acc')\n",
        "plt.plot(epochs, val_acc, 'b', label='Validation acc')\n",
        "plt.title('Training and validation accuracy')\n",
        "plt.xlabel('Epochs')\n",
        "plt.ylabel('Loss')\n",
        "plt.legend()\n",
        "\n",
        "plt.show()\n"
      ],
      "execution_count": null,
      "outputs": [
        {
          "output_type": "display_data",
          "data": {
            "image/png": "[encoded data removed]",
            "text/plain": [
              "<Figure size 432x288 with 1 Axes>"
            ]
          },
          "metadata": {
            "tags": [],
            "needs_background": "light"
          }
        }
      ]
    },
    {
      "cell_type": "code",
      "metadata": {
        "id": "AzC9Mdi-AJqA",
        "colab_type": "code",
        "colab": {}
      },
      "source": [
        "model = tf.keras.models.Sequential()\n",
        "model.add(tf.keras.layers.Dense(16, activation='relu', input_shape=(10000,)))\n",
        "model.add(tf.keras.layers.Dense(16, activation='relu'))\n",
        "model.add(tf.keras.layers.Dense(1, activation='sigmoid'))\n",
        "\n",
        "model.compile(\n",
        "    loss='binary_crossentropy',\n",
        "    optimizer=tf.keras.optimizers.RMSprop(),\n",
        "    metrics=['acc']\n",
        ") "
      ],
      "execution_count": null,
      "outputs": []
    },
    {
      "cell_type": "code",
      "metadata": {
        "id": "Jws5l-LgAU8a",
        "colab_type": "code",
        "colab": {
          "base_uri": "https://localhost:8080/",
          "height": 118
        },
        "outputId": "0bf2457d-1cb5-4c8e-c1a8-8c3617b0d4a8"
      },
      "source": [
        "history=model.fit(X_train, y_train, epochs=3, validation_data=(X_val, y_val), batch_size=512)"
      ],
      "execution_count": null,
      "outputs": [
        {
          "output_type": "stream",
          "text": [
            "Epoch 1/3\n",
            "30/30 [==============================] - 1s 42ms/step - loss: 0.5238 - acc: 0.7851 - val_loss: 0.3875 - val_acc: 0.8713\n",
            "Epoch 2/3\n",
            "30/30 [==============================] - 1s 38ms/step - loss: 0.3076 - acc: 0.8980 - val_loss: 0.3082 - val_acc: 0.8868\n",
            "Epoch 3/3\n",
            "30/30 [==============================] - 1s 38ms/step - loss: 0.2174 - acc: 0.9319 - val_loss: 0.2941 - val_acc: 0.8799\n"
          ],
          "name": "stdout"
        }
      ]
    },
    {
      "cell_type": "code",
      "metadata": {
        "id": "RqEgcOVUAfm6",
        "colab_type": "code",
        "colab": {
          "base_uri": "https://localhost:8080/",
          "height": 134
        },
        "outputId": "de47e8d8-0dde-4001-fb8a-48dbe2c722ee"
      },
      "source": [
        "model.predict(X_test)"
      ],
      "execution_count": null,
      "outputs": [
        {
          "output_type": "execute_result",
          "data": {
            "text/plain": [
              "array([[0.20623076],\n",
              "       [0.99869424],\n",
              "       [0.4791778 ],\n",
              "       ...,\n",
              "       [0.11216959],\n",
              "       [0.09861359],\n",
              "       [0.49268317]], dtype=float32)"
            ]
          },
          "metadata": {
            "tags": []
          },
          "execution_count": 14
        }
      ]
    },
    {
      "cell_type": "markdown",
      "metadata": {
        "id": "yIgwxHoybAQg",
        "colab_type": "text"
      },
      "source": [
        "Изменим некоторые из параметров"
      ]
    },
    {
      "cell_type": "code",
      "metadata": {
        "id": "YopZ5Yb2At6y",
        "colab_type": "code",
        "colab": {
          "base_uri": "https://localhost:8080/",
          "height": 286
        },
        "outputId": "b22ee017-82bd-494d-d53e-d020f7458794"
      },
      "source": [
        "model = tf.keras.models.Sequential()\n",
        "model.add(tf.keras.layers.Dense(32, activation='relu', input_shape=(10000,)))\n",
        "model.add(tf.keras.layers.Dense(32, activation='relu'))\n",
        "model.add(tf.keras.layers.Dense(1, activation='sigmoid'))\n",
        "\n",
        "model.compile(\n",
        "    loss='mse',\n",
        "    optimizer=tf.keras.optimizers.RMSprop(),\n",
        "    metrics=['acc']\n",
        ") \n",
        "\n",
        "history=model.fit(X_train, y_train, epochs=8, validation_data=(X_val, y_val), batch_size=512)"
      ],
      "execution_count": null,
      "outputs": [
        {
          "output_type": "stream",
          "text": [
            "Epoch 1/8\n",
            "30/30 [==============================] - 1s 43ms/step - loss: 0.1612 - acc: 0.7823 - val_loss: 0.1256 - val_acc: 0.8336\n",
            "Epoch 2/8\n",
            "30/30 [==============================] - 1s 41ms/step - loss: 0.0828 - acc: 0.9059 - val_loss: 0.0929 - val_acc: 0.8814\n",
            "Epoch 3/8\n",
            "30/30 [==============================] - 1s 41ms/step - loss: 0.0563 - acc: 0.9367 - val_loss: 0.0841 - val_acc: 0.8876\n",
            "Epoch 4/8\n",
            "30/30 [==============================] - 1s 40ms/step - loss: 0.0452 - acc: 0.9489 - val_loss: 0.0854 - val_acc: 0.8845\n",
            "Epoch 5/8\n",
            "30/30 [==============================] - 1s 41ms/step - loss: 0.0338 - acc: 0.9638 - val_loss: 0.0883 - val_acc: 0.8781\n",
            "Epoch 6/8\n",
            "30/30 [==============================] - 1s 46ms/step - loss: 0.0266 - acc: 0.9720 - val_loss: 0.0882 - val_acc: 0.8803\n",
            "Epoch 7/8\n",
            "30/30 [==============================] - 1s 44ms/step - loss: 0.0211 - acc: 0.9784 - val_loss: 0.0914 - val_acc: 0.8780\n",
            "Epoch 8/8\n",
            "30/30 [==============================] - 1s 41ms/step - loss: 0.0171 - acc: 0.9819 - val_loss: 0.0945 - val_acc: 0.8752\n"
          ],
          "name": "stdout"
        }
      ]
    }
  ]
}