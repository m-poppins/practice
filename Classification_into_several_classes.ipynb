{
  "nbformat": 4,
  "nbformat_minor": 0,
  "metadata": {
    "colab": {
      "name": "Classification into several classes",
      "provenance": [],
      "collapsed_sections": [],
      "authorship_tag": "ABX9TyN9a1xANiX85G/M0a7ByzFG",
      "include_colab_link": true
    },
    "kernelspec": {
      "name": "python3",
      "display_name": "Python 3"
    }
  },
  "cells": [
    {
      "cell_type": "markdown",
      "metadata": {
        "id": "view-in-github",
        "colab_type": "text"
      },
      "source": [
        "<a href=\"https://colab.research.google.com/github/m-poppins/practice/blob/master/Classification_into_several_classes.ipynb\" target=\"_parent\"><img src=\"https://colab.research.google.com/assets/colab-badge.svg\" alt=\"Open In Colab\"/></a>"
      ]
    },
    {
      "cell_type": "markdown",
      "metadata": {
        "id": "RAqo9w87jio3",
        "colab_type": "text"
      },
      "source": [
        "# Классификация новостных лент"
      ]
    },
    {
      "cell_type": "code",
      "metadata": {
        "id": "uWVctu_Cj-Ic",
        "colab_type": "code",
        "colab": {}
      },
      "source": [
        "import tensorflow as tf\n",
        "import pandas as pd\n",
        "import matplotlib.pyplot as plt\n",
        "import numpy as np\n",
        "from tensorflow import keras\n",
        "\n",
        "%matplotlib inline"
      ],
      "execution_count": 1,
      "outputs": []
    },
    {
      "cell_type": "code",
      "metadata": {
        "id": "ddvABxk0i_KD",
        "colab_type": "code",
        "colab": {
          "base_uri": "https://localhost:8080/",
          "height": 67
        },
        "outputId": "0b63f65b-852c-4b20-cddf-624f9c0f3ad8"
      },
      "source": [
        "from keras.datasets import reuters\n",
        "(X_train, y_train), (X_test, y_test) = reuters.load_data(num_words=10000)"
      ],
      "execution_count": 2,
      "outputs": [
        {
          "output_type": "stream",
          "text": [
            "Using TensorFlow backend.\n"
          ],
          "name": "stderr"
        },
        {
          "output_type": "stream",
          "text": [
            "Downloading data from https://s3.amazonaws.com/text-datasets/reuters.npz\n",
            "2113536/2110848 [==============================] - 0s 0us/step\n"
          ],
          "name": "stdout"
        }
      ]
    },
    {
      "cell_type": "code",
      "metadata": {
        "id": "VjzmQAgGkVQZ",
        "colab_type": "code",
        "colab": {}
      },
      "source": [
        "def vec_seq(sequences, dimension=10000):\n",
        "    res = np.zeros((len(sequences), dimension))\n",
        "    for i, s in enumerate(sequences):\n",
        "        res[i, s] = 1.\n",
        "    return res"
      ],
      "execution_count": 5,
      "outputs": []
    },
    {
      "cell_type": "code",
      "metadata": {
        "id": "bb1pHBJWkqvG",
        "colab_type": "code",
        "colab": {}
      },
      "source": [
        "X = vec_seq(X_train)\n",
        "X_test = vec_seq(X_test)\n",
        "\n",
        "from keras.utils.np_utils import to_categorical\n",
        "y = to_categorical(y_train) \n",
        "y_test = to_categorical(y_test)\n",
        "\n",
        "X_val = X[:1000]\n",
        "X_train = X[1000:]\n",
        "y_val = y[:1000]\n",
        "y_train = y[1000:]"
      ],
      "execution_count": 6,
      "outputs": []
    },
    {
      "cell_type": "code",
      "metadata": {
        "id": "lf-L4oM0l73M",
        "colab_type": "code",
        "colab": {}
      },
      "source": [
        "model = tf.keras.models.Sequential()\n",
        "model.add(tf.keras.layers.Dense(64, activation='relu', input_shape=(10000,)))\n",
        "model.add(tf.keras.layers.Dense(64, activation='relu'))\n",
        "model.add(tf.keras.layers.Dense(46, activation='softmax'))"
      ],
      "execution_count": 14,
      "outputs": []
    },
    {
      "cell_type": "code",
      "metadata": {
        "id": "zhM16BBLmtef",
        "colab_type": "code",
        "colab": {}
      },
      "source": [
        "model.compile(\n",
        "    loss='categorical_crossentropy',\n",
        "    optimizer=tf.keras.optimizers.RMSprop(),\n",
        "    metrics=['accuracy']\n",
        ") "
      ],
      "execution_count": 15,
      "outputs": []
    },
    {
      "cell_type": "code",
      "metadata": {
        "id": "CCIendKum6lR",
        "colab_type": "code",
        "colab": {
          "base_uri": "https://localhost:8080/",
          "height": 487
        },
        "outputId": "c39b687e-2fd8-42c8-fe13-85266e9f33aa"
      },
      "source": [
        "history=model.fit(X_train, y_train, epochs=14, validation_data=(X_val, y_val), batch_size=512)"
      ],
      "execution_count": 16,
      "outputs": [
        {
          "output_type": "stream",
          "text": [
            "Epoch 1/14\n",
            "16/16 [==============================] - 1s 51ms/step - loss: 2.5521 - accuracy: 0.5372 - val_loss: 1.6939 - val_accuracy: 0.6560\n",
            "Epoch 2/14\n",
            "16/16 [==============================] - 1s 46ms/step - loss: 1.3911 - accuracy: 0.7106 - val_loss: 1.2929 - val_accuracy: 0.7110\n",
            "Epoch 3/14\n",
            "16/16 [==============================] - 1s 45ms/step - loss: 1.0435 - accuracy: 0.7811 - val_loss: 1.1065 - val_accuracy: 0.7530\n",
            "Epoch 4/14\n",
            "16/16 [==============================] - 1s 45ms/step - loss: 0.8228 - accuracy: 0.8296 - val_loss: 1.0311 - val_accuracy: 0.7850\n",
            "Epoch 5/14\n",
            "16/16 [==============================] - 1s 46ms/step - loss: 0.6577 - accuracy: 0.8631 - val_loss: 0.9563 - val_accuracy: 0.8130\n",
            "Epoch 6/14\n",
            "16/16 [==============================] - 1s 45ms/step - loss: 0.5333 - accuracy: 0.8915 - val_loss: 0.9113 - val_accuracy: 0.8130\n",
            "Epoch 7/14\n",
            "16/16 [==============================] - 1s 44ms/step - loss: 0.4233 - accuracy: 0.9142 - val_loss: 0.8969 - val_accuracy: 0.8150\n",
            "Epoch 8/14\n",
            "16/16 [==============================] - 1s 46ms/step - loss: 0.3461 - accuracy: 0.9295 - val_loss: 0.9116 - val_accuracy: 0.8200\n",
            "Epoch 9/14\n",
            "16/16 [==============================] - 1s 45ms/step - loss: 0.2846 - accuracy: 0.9387 - val_loss: 0.8867 - val_accuracy: 0.8140\n",
            "Epoch 10/14\n",
            "16/16 [==============================] - 1s 47ms/step - loss: 0.2405 - accuracy: 0.9464 - val_loss: 0.9093 - val_accuracy: 0.8200\n",
            "Epoch 11/14\n",
            "16/16 [==============================] - 1s 45ms/step - loss: 0.2087 - accuracy: 0.9486 - val_loss: 0.9765 - val_accuracy: 0.8010\n",
            "Epoch 12/14\n",
            "16/16 [==============================] - 1s 45ms/step - loss: 0.1860 - accuracy: 0.9508 - val_loss: 0.9510 - val_accuracy: 0.8050\n",
            "Epoch 13/14\n",
            "16/16 [==============================] - 1s 47ms/step - loss: 0.1658 - accuracy: 0.9530 - val_loss: 0.9593 - val_accuracy: 0.8110\n",
            "Epoch 14/14\n",
            "16/16 [==============================] - 1s 45ms/step - loss: 0.1522 - accuracy: 0.9548 - val_loss: 0.9727 - val_accuracy: 0.8170\n"
          ],
          "name": "stdout"
        }
      ]
    },
    {
      "cell_type": "code",
      "metadata": {
        "id": "CGAMZ3LvnHXD",
        "colab_type": "code",
        "colab": {
          "base_uri": "https://localhost:8080/",
          "height": 295
        },
        "outputId": "f19fb451-c226-4029-9c02-9a5c64323873"
      },
      "source": [
        "history_dict = history.history\n",
        "\n",
        "loss = history_dict['loss']\n",
        "val_loss = history_dict['val_loss']\n",
        "acc = history_dict['accuracy']\n",
        "val_acc = history_dict['val_accuracy']\n",
        "epochs = range(1, len(acc) + 1)\n",
        "\n",
        "plt.plot(epochs, loss, 'bo', label='Training loss')\n",
        "plt.plot(epochs, val_loss, 'b', label='Validation loss')\n",
        "plt.title('Training and validation loss')\n",
        "plt.xlabel('Epochs')\n",
        "plt.ylabel('Loss')\n",
        "plt.legend()\n",
        "\n",
        "plt.show()"
      ],
      "execution_count": 17,
      "outputs": [
        {
          "output_type": "display_data",
          "data": {
            "image/png": "[encoded data removed]",
            "text/plain": [
              "<Figure size 432x288 with 1 Axes>"
            ]
          },
          "metadata": {
            "tags": [],
            "needs_background": "light"
          }
        }
      ]
    },
    {
      "cell_type": "code",
      "metadata": {
        "id": "Oz598JJsnSkS",
        "colab_type": "code",
        "colab": {
          "base_uri": "https://localhost:8080/",
          "height": 295
        },
        "outputId": "99b668e5-dc05-4dec-ae7c-6ea3f6ccccbf"
      },
      "source": [
        "plt.clf() #очистка рисунка\n",
        "plt.plot(epochs, acc, 'bo', label='Training acc')\n",
        "plt.plot(epochs, val_acc, 'b', label='Validation acc')\n",
        "plt.title('Training and validation accuracy')\n",
        "plt.xlabel('Epochs')\n",
        "plt.ylabel('Loss')\n",
        "plt.legend()\n",
        "\n",
        "plt.show()\n"
      ],
      "execution_count": 18,
      "outputs": [
        {
          "output_type": "display_data",
          "data": {
            "image/png": "[encoded data removed]",
            "text/plain": [
              "<Figure size 432x288 with 1 Axes>"
            ]
          },
          "metadata": {
            "tags": [],
            "needs_background": "light"
          }
        }
      ]
    },
    {
      "cell_type": "code",
      "metadata": {
        "id": "drKVlRrDohpE",
        "colab_type": "code",
        "colab": {}
      },
      "source": [
        "predictions = model.predict(X_test)"
      ],
      "execution_count": 20,
      "outputs": []
    },
    {
      "cell_type": "code",
      "metadata": {
        "id": "lk57WD8tolVo",
        "colab_type": "code",
        "colab": {
          "base_uri": "https://localhost:8080/",
          "height": 34
        },
        "outputId": "637bea10-e474-4b14-9f67-e8e73aa2009e"
      },
      "source": [
        "np.argmax(predictions[0])"
      ],
      "execution_count": 21,
      "outputs": [
        {
          "output_type": "execute_result",
          "data": {
            "text/plain": [
              "3"
            ]
          },
          "metadata": {
            "tags": []
          },
          "execution_count": 21
        }
      ]
    },
    {
      "cell_type": "markdown",
      "metadata": {
        "id": "yUrHtP4zo2BI",
        "colab_type": "text"
      },
      "source": [
        "АЛЬТЕРНАТИВА"
      ]
    },
    {
      "cell_type": "code",
      "metadata": {
        "id": "4j0XyaGxo06c",
        "colab_type": "code",
        "colab": {}
      },
      "source": [
        "y_train = np.array(y_train)\n",
        "y_test = np.array(y_test)\n",
        "\n",
        "model.compile(optimizer='rmsprop',\n",
        "              loss='sparse_categorical_crossentropy',\n",
        "              metrics=['acc'])"
      ],
      "execution_count": null,
      "outputs": []
    }
  ]
}